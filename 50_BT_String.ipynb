{
 "cells": [
  {
   "cell_type": "code",
   "execution_count": 18,
   "metadata": {},
   "outputs": [
    {
     "name": "stdout",
     "output_type": "stream",
     "text": [
      "5\n"
     ]
    }
   ],
   "source": [
    "#1\n",
    "i = input(\"Enter your string: \")\n",
    "length = len(i)\n",
    "print(length)"
   ]
  },
  {
   "cell_type": "code",
   "execution_count": 19,
   "metadata": {},
   "outputs": [
    {
     "name": "stdout",
     "output_type": "stream",
     "text": [
      "{'g': 2, 'o': 3, 'l': 1, 'e': 1, '.': 1, 'c': 1, 'm': 1}\n"
     ]
    }
   ],
   "source": [
    "#2\n",
    "sample_string = 'google.com'\n",
    "result = dict()\n",
    "for _ in sample_string:\n",
    "    result[_] = sample_string.count(_)\n",
    "print(result)"
   ]
  },
  {
   "cell_type": "code",
   "execution_count": null,
   "metadata": {},
   "outputs": [
    {
     "name": "stdout",
     "output_type": "stream",
     "text": [
      "w3w3\n"
     ]
    }
   ],
   "source": [
    "#3\n",
    "result3 = ''\n",
    "x = 'w3'\n",
    "if len(x) >= 2:\n",
    "    result3 = x[:2] + x[-2:]\n",
    "else:\n",
    "    print('Empty String')\n",
    "print(result3)"
   ]
  },
  {
   "cell_type": "code",
   "execution_count": 30,
   "metadata": {},
   "outputs": [
    {
     "name": "stdout",
     "output_type": "stream",
     "text": [
      "resta$t\n"
     ]
    }
   ],
   "source": [
    "#4\n",
    "sample_string = 'restart'\n",
    "result4 = sample_string[0]\n",
    "for _ in range(1, len(sample_string)):\n",
    "    if sample_string[_] == sample_string[0]:\n",
    "        result4 += sample_string[1:len(sample_string)].replace(sample_string[_],'$')\n",
    "print(result4)"
   ]
  },
  {
   "cell_type": "code",
   "execution_count": 34,
   "metadata": {},
   "outputs": [
    {
     "name": "stdout",
     "output_type": "stream",
     "text": [
      "xyc abz\n"
     ]
    }
   ],
   "source": [
    "#5\n",
    "s1 = 'abc'\n",
    "s2 = 'xyz'\n",
    "a = s1[2:]\n",
    "b = s2[2:]\n",
    "s = s2[:2] + a + \" \" + s1[:2] + b\n",
    "print(s)"
   ]
  },
  {
   "cell_type": "code",
   "execution_count": 5,
   "metadata": {},
   "outputs": [
    {
     "name": "stdout",
     "output_type": "stream",
     "text": [
      "leningly\n"
     ]
    }
   ],
   "source": [
    "#6\n",
    "string = input(\"Enter your string: \")\n",
    "add1 = 'ing'\n",
    "add2 = 'ly'\n",
    "\n",
    "if len(string) > 2:\n",
    "    if string[-3:] == add1:\n",
    "        string += add2\n",
    "    else: string += add1\n",
    "print(string)"
   ]
  },
  {
   "cell_type": "code",
   "execution_count": 84,
   "metadata": {},
   "outputs": [
    {
     "name": "stdout",
     "output_type": "stream",
     "text": [
      "the web is good man!\n"
     ]
    }
   ],
   "source": [
    "#7\n",
    "def replace_not_poor(string):\n",
    "    index_not = string.find('not')\n",
    "    index_poor = string. find('poor')\n",
    "    if index_not != -1 and index_poor != -1:\n",
    "        return string[:index_not] + 'good' + string[index_poor+4:]\n",
    "\n",
    "print(replace_not_poor('the web is not that poor man!'))"
   ]
  },
  {
   "cell_type": "code",
   "execution_count": 6,
   "metadata": {},
   "outputs": [
    {
     "name": "stdout",
     "output_type": "stream",
     "text": [
      "Longest word: exercises\n",
      "Length of the longest word: 9\n"
     ]
    }
   ],
   "source": [
    "#8\n",
    "list_words = ['I', 'exercises', 'homework', 'school', 'pineapple']\n",
    "max_len = 0\n",
    "substring = ''\n",
    "for _ in list_words:\n",
    "    if len(_) > max_len:\n",
    "        max_len = len(_)\n",
    "        substring = _\n",
    "\n",
    "print(f'Longest word: {substring}')\n",
    "print(f'Length of the longest word: {max_len}')"
   ]
  },
  {
   "cell_type": "code",
   "execution_count": 8,
   "metadata": {},
   "outputs": [
    {
     "name": "stdout",
     "output_type": "stream",
     "text": [
      "hllo\n"
     ]
    }
   ],
   "source": [
    "#9\n",
    "string = input('Enter your string: ')\n",
    "del_indx = int(input('Enter where you want to delete: '))\n",
    "result = string.replace(string[del_indx], '')\n",
    "print(result)"
   ]
  },
  {
   "cell_type": "code",
   "execution_count": 9,
   "metadata": {},
   "outputs": [
    {
     "name": "stdout",
     "output_type": "stream",
     "text": [
      "hello\n",
      "oellh\n"
     ]
    }
   ],
   "source": [
    "#10\n",
    "string = input('Enter your string: ')\n",
    "print(string)\n",
    "\n",
    "first_char = string[0]\n",
    "last_char = string[-1]\n",
    "result = last_char + string[1:len(string)-1] + first_char\n",
    "print(result)"
   ]
  },
  {
   "cell_type": "code",
   "execution_count": 18,
   "metadata": {},
   "outputs": [
    {
     "name": "stdout",
     "output_type": "stream",
     "text": [
      "rsl\n"
     ]
    }
   ],
   "source": [
    "#11\n",
    "result = input('Enter your string: ')[::2]\n",
    "print(result)"
   ]
  },
  {
   "cell_type": "code",
   "execution_count": 24,
   "metadata": {},
   "outputs": [
    {
     "name": "stdout",
     "output_type": "stream",
     "text": [
      "{'hello': 2, 'world': 2}\n"
     ]
    }
   ],
   "source": [
    "#12\n",
    "sentence = \"hello{} world; hello, wo.rld\"\n",
    "special_char = ['.',',',':',';','/','?','{','}','[',']']\n",
    "for _ in sentence:\n",
    "    if _ in special_char:\n",
    "        sentence = sentence.replace(_,'')\n",
    "\n",
    "words = sentence.split()\n",
    "result = dict()\n",
    "for _ in words:\n",
    "    result[_] = words.count(_)\n",
    "print(result)\n"
   ]
  },
  {
   "cell_type": "code",
   "execution_count": 26,
   "metadata": {},
   "outputs": [
    {
     "name": "stdout",
     "output_type": "stream",
     "text": [
      "HAJOD\n",
      "hajod\n"
     ]
    }
   ],
   "source": [
    "#13\n",
    "result = input('Enter your string: ')\n",
    "print(result.upper())\n",
    "print(result.lower())"
   ]
  },
  {
   "cell_type": "code",
   "execution_count": 49,
   "metadata": {},
   "outputs": [
    {
     "name": "stdout",
     "output_type": "stream",
     "text": [
      "['black', 'blue', 'pink', 'red']\n"
     ]
    }
   ],
   "source": [
    "#14\n",
    "string = input(\"Enter your string: \")\n",
    "list_str = string.split(',')\n",
    "new_lst = []\n",
    "temp_lst = []\n",
    "for i in list_str:\n",
    "    cls_word = i.lstrip()\n",
    "    temp_lst.append(cls_word)\n",
    "    for j in temp_lst:\n",
    "        if j in new_lst:\n",
    "            new_lst.append(j)\n",
    "            new_lst.pop()\n",
    "        else: new_lst.append(j)\n",
    "\n",
    "print(sorted(new_lst))"
   ]
  },
  {
   "cell_type": "code",
   "execution_count": 50,
   "metadata": {},
   "outputs": [
    {
     "name": "stdout",
     "output_type": "stream",
     "text": [
      "<i>Python Tutorial</i>\n"
     ]
    }
   ],
   "source": [
    "#15\n",
    "def add_tags(string, tag='p'):\n",
    "    return f'<{tag}>{string}</{tag}>'\n",
    "print(add_tags('Python Tutorial', 'i'))"
   ]
  },
  {
   "cell_type": "code",
   "execution_count": 3,
   "metadata": {},
   "outputs": [
    {
     "name": "stdout",
     "output_type": "stream",
     "text": [
      "<<Hello Python>>\n"
     ]
    }
   ],
   "source": [
    "#16\n",
    "def insert_string_middle(string_par, string2):\n",
    "    result = string_par[:len(string_par)//2] + string2 + string_par[len(string_par)//2:]\n",
    "    return result\n",
    "\n",
    "print(insert_string_middle('<<>>',\"Hello Python\"))"
   ]
  },
  {
   "cell_type": "code",
   "execution_count": 8,
   "metadata": {},
   "outputs": [
    {
     "name": "stdout",
     "output_type": "stream",
     "text": [
      "onononon\n"
     ]
    }
   ],
   "source": [
    "#17\n",
    "def insert_end(string):\n",
    "    if len(string) >= 2:\n",
    "        result = string[len(string)-2:]*4\n",
    "        return result\n",
    "    else: return string\n",
    "\n",
    "print(insert_end('Python'))"
   ]
  },
  {
   "cell_type": "code",
   "execution_count": 9,
   "metadata": {},
   "outputs": [
    {
     "name": "stdout",
     "output_type": "stream",
     "text": [
      "Pyt\n"
     ]
    }
   ],
   "source": [
    "#18\n",
    "def first_three(string):\n",
    "    if len(string) >= 3:\n",
    "        result = string[:3]\n",
    "        return result\n",
    "    else: return string\n",
    "\n",
    "print(first_three('Python'))"
   ]
  },
  {
   "cell_type": "code",
   "execution_count": 32,
   "metadata": {},
   "outputs": [
    {
     "name": "stdout",
     "output_type": "stream",
     "text": [
      "exercises\n"
     ]
    }
   ],
   "source": [
    "#19\n",
    "def last_specific_char(string, speChar):\n",
    "    for _ in range(len(string)):\n",
    "        if string[_] == speChar:\n",
    "            return string[_+1:] \n",
    "    return string\n",
    "\n",
    "print(last_specific_char('python-exercises','-'))"
   ]
  },
  {
   "cell_type": "code",
   "execution_count": 11,
   "metadata": {},
   "outputs": [
    {
     "name": "stdout",
     "output_type": "stream",
     "text": [
      "lleh\n"
     ]
    }
   ],
   "source": [
    "#20\n",
    "def str_mul_by4(string):\n",
    "    if len(string) % 4 == 0:\n",
    "        return string[::-1]\n",
    "    \n",
    "print(str_mul_by4(\"hell\"))"
   ]
  },
  {
   "cell_type": "code",
   "execution_count": 13,
   "metadata": {},
   "outputs": [
    {
     "name": "stdout",
     "output_type": "stream",
     "text": [
      "Hello\n"
     ]
    }
   ],
   "source": [
    "#21\n",
    "def define_uppercase(string):\n",
    "    count = 0\n",
    "    for _ in string[:5]:\n",
    "        if _.isupper():\n",
    "            count += 1\n",
    "\n",
    "    if count >= 2:\n",
    "        return string.upper()\n",
    "    else: return string\n",
    "\n",
    "print(define_uppercase('Hello'))"
   ]
  },
  {
   "cell_type": "code",
   "execution_count": 17,
   "metadata": {},
   "outputs": [
    {
     "name": "stdout",
     "output_type": "stream",
     "text": [
      "aaabnn\n"
     ]
    }
   ],
   "source": [
    "#22\n",
    "def lexico_order(string):\n",
    "    return \"\".join(sorted(string))\n",
    "print(lexico_order('banana'))"
   ]
  },
  {
   "cell_type": "code",
   "execution_count": null,
   "metadata": {},
   "outputs": [
    {
     "name": "stdout",
     "output_type": "stream",
     "text": [
      "hiaaa\n"
     ]
    }
   ],
   "source": [
    "#23\n",
    "def remove_line(string):\n",
    "    return string.replace('\\n','')\n",
    "string = \"hi\\nworld\"\n",
    "print(remove_line(string))\n"
   ]
  },
  {
   "cell_type": "code",
   "execution_count": 20,
   "metadata": {},
   "outputs": [
    {
     "name": "stdout",
     "output_type": "stream",
     "text": [
      "True\n"
     ]
    }
   ],
   "source": [
    "#24\n",
    "def detect_by_speci_char(string, char):\n",
    "    return string[0] == char\n",
    "print(detect_by_speci_char('-ython','-'))\n"
   ]
  },
  {
   "cell_type": "code",
   "execution_count": 89,
   "metadata": {},
   "outputs": [
    {
     "name": "stdout",
     "output_type": "stream",
     "text": [
      "DEFGHI\n"
     ]
    }
   ],
   "source": [
    "#25\n",
    "def caesar_message(text):\n",
    "    final_text = ''\n",
    "    for letter in text:\n",
    "        x = ord(letter)\n",
    "        if (x >= 65 and x <= 90):\n",
    "            c = (x - 65 + 3) % 26 + 65\n",
    "            final_text = final_text + chr(c)\n",
    "        elif (x >= 97 and x <= 122):\n",
    "            c = (x - 97 + 3) % 26 + 97\n",
    "            final_text = final_text + chr(c)\n",
    "        else: final_text = final_text + letter\n",
    "    return final_text\n",
    "\n",
    "print(caesar_message('ABCDEF'))"
   ]
  },
  {
   "cell_type": "code",
   "execution_count": 72,
   "metadata": {},
   "outputs": [
    {
     "name": "stdout",
     "output_type": "stream",
     "text": [
      "hello world my name is duong i am 19 years old, I \n",
      "want to be an astronaumers, I have a sister, I lov\n",
      "e to play video games, do you know that cat can ta\n",
      "lk with human by using touching language\n"
     ]
    }
   ],
   "source": [
    "#26\n",
    "def format_text(string):\n",
    "    result = ''\n",
    "    start = 0\n",
    "    line = len(string)//50\n",
    "    for _ in range(len(string)):\n",
    "        if len(string[start:_]) % 50 == 0:\n",
    "            result += string[start:_] + '\\n' \n",
    "            start = _\n",
    "        \n",
    "    result += string[50*line:]\n",
    "            \n",
    "    return result.lstrip()\n",
    "\n",
    "print(format_text('hello world my name is duong i am 19 years old, I want to be an astronaumers, I have a sister, I love to play video games, do you know that cat can talk with human by using touching language'))"
   ]
  },
  {
   "cell_type": "code",
   "execution_count": 78,
   "metadata": {},
   "outputs": [
    {
     "name": "stdout",
     "output_type": "stream",
     "text": [
      "hi\n",
      "aaa\n",
      "aaaa\n"
     ]
    }
   ],
   "source": [
    "#27\n",
    "def format_indent(string):\n",
    "    return string.replace('\\t','')\n",
    "string = \"\\thi\\n\\taaa\\n\\t\\taaaa\"\n",
    "print(format_indent(string))"
   ]
  },
  {
   "cell_type": "code",
   "execution_count": 81,
   "metadata": {},
   "outputs": [
    {
     "name": "stdout",
     "output_type": "stream",
     "text": [
      ">>hello\n",
      ">>world\n",
      ">>me\n"
     ]
    }
   ],
   "source": [
    "#28\n",
    "def add_prefix(string, prefix):\n",
    "    lst1 = string.split('\\n')\n",
    "    lst2 = []\n",
    "    for _ in lst1:\n",
    "        lst2.append(prefix + _)\n",
    "    return '\\n'.join(lst2)\n",
    "\n",
    "print(add_prefix(\"hello\\nworld\\nme\",\">>\"))"
   ]
  },
  {
   "cell_type": "code",
   "execution_count": null,
   "metadata": {},
   "outputs": [
    {
     "name": "stdout",
     "output_type": "stream",
     "text": [
      ">>hello\n",
      "world\n",
      "me\n"
     ]
    }
   ],
   "source": [
    "#29\n",
    "def add_prefix_1st_line(string, prefix):\n",
    "    return prefix + string\n",
    "\n",
    "print(add_prefix_1st_line(\"hello\\nworld\\nme\",\">>\"))"
   ]
  },
  {
   "cell_type": "code",
   "execution_count": null,
   "metadata": {},
   "outputs": [
    {
     "name": "stdout",
     "output_type": "stream",
     "text": [
      "10.00\n"
     ]
    }
   ],
   "source": [
    "#30\n",
    "def two_decimal(num):\n",
    "    return f'{num:.2f}'\n",
    "\n",
    "print(two_decimal(10))"
   ]
  },
  {
   "cell_type": "code",
   "execution_count": null,
   "metadata": {},
   "outputs": [
    {
     "name": "stdout",
     "output_type": "stream",
     "text": [
      "-10.00\n"
     ]
    }
   ],
   "source": [
    "#31\n",
    "def two_decimal_sign(num):\n",
    "    return f'{num:+.2f}'\n",
    "\n",
    "print(two_decimal_sign(10))"
   ]
  },
  {
   "cell_type": "code",
   "execution_count": null,
   "metadata": {},
   "outputs": [
    {
     "name": "stdout",
     "output_type": "stream",
     "text": [
      "-10\n"
     ]
    }
   ],
   "source": [
    "#32\n",
    "def no_decimal_sign(num):\n",
    "    return f'{num:+d}'\n",
    "\n",
    "print(no_decimal_sign(-10))"
   ]
  },
  {
   "cell_type": "code",
   "execution_count": 113,
   "metadata": {},
   "outputs": [
    {
     "name": "stdout",
     "output_type": "stream",
     "text": [
      "+000000010\n"
     ]
    }
   ],
   "source": [
    "#33\n",
    "def int_zero_to_left(num, x):\n",
    "    return f'{num:+0{x}d}'\n",
    "\n",
    "print(int_zero_to_left(10, 10))"
   ]
  },
  {
   "cell_type": "code",
   "execution_count": 4,
   "metadata": {},
   "outputs": [
    {
     "name": "stdout",
     "output_type": "stream",
     "text": [
      "********10\n"
     ]
    }
   ],
   "source": [
    "#34\n",
    "def int_mul_to_left(num, x):\n",
    "    width = x - len(str(num))\n",
    "    return width * '*' + str(num)\n",
    "\n",
    "print(int_mul_to_left(10, 10))"
   ]
  },
  {
   "cell_type": "code",
   "execution_count": 7,
   "metadata": {},
   "outputs": [
    {
     "name": "stdout",
     "output_type": "stream",
     "text": [
      "10,000\n"
     ]
    }
   ],
   "source": [
    "#35\n",
    "def comma_separator(num):\n",
    "    return f'{num:,d}'\n",
    "\n",
    "print(comma_separator(10000))"
   ]
  },
  {
   "cell_type": "code",
   "execution_count": null,
   "metadata": {},
   "outputs": [
    {
     "name": "stdout",
     "output_type": "stream",
     "text": [
      "10.0%\n"
     ]
    }
   ],
   "source": [
    "#36\n",
    "def percent_format(num):\n",
    "    return f'{num*100} %'\n",
    "\n",
    "print(percent_format(0.1))"
   ]
  },
  {
   "cell_type": "code",
   "execution_count": 3,
   "metadata": {},
   "outputs": [
    {
     "name": "stdout",
     "output_type": "stream",
     "text": [
      "    10    \n"
     ]
    }
   ],
   "source": [
    "#37\n",
    "def align_num(num, w, align='center'):\n",
    "    width = w - len(str(num))\n",
    "    if align == 'right':\n",
    "        return f\"{width * ' ' + str(num)}\"\n",
    "    elif align == 'left':\n",
    "        return f\"{str(num) + width * ' '}\"\n",
    "    else: return f\"{(width//2 * ' ') + str(num) + (width//2 * ' ')}\"\n",
    "\n",
    "print(align_num(10, 10))"
   ]
  },
  {
   "cell_type": "code",
   "execution_count": 62,
   "metadata": {},
   "outputs": [
    {
     "name": "stdout",
     "output_type": "stream",
     "text": [
      "lo: 4\n"
     ]
    }
   ],
   "source": [
    "#38 Write a Python program to count occurrences of a substring in a string\n",
    "def count_substr(substr, string):\n",
    "    len_sub = len(substr)\n",
    "    count = 0 \n",
    "    for _ in range(len(string)):\n",
    "        if string[_:len_sub] == substr:\n",
    "            count += 1\n",
    "        len_sub += 1\n",
    "    return count\n",
    "\n",
    "substr = 'lo'\n",
    "result = count_substr(substr, 'hello hello hello anybody there hello')\n",
    "print(f'{substr}: {result}')\n"
   ]
  },
  {
   "cell_type": "code",
   "execution_count": null,
   "metadata": {},
   "outputs": [
    {
     "name": "stdout",
     "output_type": "stream",
     "text": [
      "nohtyP olleH\n"
     ]
    }
   ],
   "source": [
    "#39\n",
    "def reverse_string(string):\n",
    "    return string[::-1]\n",
    "print(reverse_string('Hello Python'))"
   ]
  },
  {
   "cell_type": "code",
   "execution_count": null,
   "metadata": {},
   "outputs": [
    {
     "name": "stdout",
     "output_type": "stream",
     "text": [
      "Friend! Newbie Python Hello\n"
     ]
    }
   ],
   "source": [
    "#40\n",
    "def reverse_words_in_string(string):\n",
    "    string_lst = string.split()\n",
    "    return \" \".join(string_lst[::-1])\n",
    "\n",
    "print(reverse_words_in_string('Hello Python Newbie Friend!'))"
   ]
  },
  {
   "cell_type": "code",
   "execution_count": null,
   "metadata": {},
   "outputs": [
    {
     "name": "stdout",
     "output_type": "stream",
     "text": [
      "##Hell, Wrld!!**\n"
     ]
    }
   ],
   "source": [
    "#41\n",
    "def strip_char(string, set):\n",
    "    result = ''\n",
    "    for _ in string:\n",
    "        if _ in set:\n",
    "            result += ''\n",
    "        else: result += _\n",
    "    return result\n",
    "\n",
    "print(strip_char(\"##Hello, World!!**\", \"#!*,\"))"
   ]
  },
  {
   "cell_type": "code",
   "execution_count": 26,
   "metadata": {},
   "outputs": [
    {
     "name": "stdout",
     "output_type": "stream",
     "text": [
      "t 2\n",
      "h 2\n",
      "e 3\n",
      "q 1\n",
      "u 2\n",
      "i 1\n",
      "c 1\n",
      "k 1\n",
      "b 1\n",
      "r 2\n",
      "o 4\n",
      "w 1\n",
      "n 1\n",
      "f 1\n",
      "x 1\n",
      "j 1\n",
      "m 1\n",
      "p 1\n",
      "s 1\n",
      "v 1\n",
      "l 1\n",
      "a 1\n",
      "z 1\n",
      "y 1\n",
      "d 1\n",
      "g 1\n"
     ]
    }
   ],
   "source": [
    "#42\n",
    "def count_repeat(string):\n",
    "    word_dict = {}\n",
    "    for _ in string:\n",
    "        word_dict[_] = string.count(_)\n",
    "    return word_dict\n",
    "result = count_repeat(\"thequickbrownfoxjumpsoverthelazydog\")\n",
    "for key, value in result.items():\n",
    "    print(f'{key} {value}')\n",
    "    \n"
   ]
  },
  {
   "cell_type": "code",
   "execution_count": 35,
   "metadata": {},
   "outputs": [
    {
     "name": "stdout",
     "output_type": "stream",
     "text": [
      "The area of the rectangle is 1256.66cm²\n",
      "The volume of the cylinder is 1254.725cm³\n"
     ]
    }
   ],
   "source": [
    "#43\n",
    "def math_symbol(string):\n",
    "    for _ in range(len(string)):\n",
    "        if string[_] == 'm':\n",
    "            if string[_+1] == '2':\n",
    "                return f\"{string[:_+1]}\\u00b2\"\n",
    "            elif string[_+1] == '3':\n",
    "                return f\"{string[:_+1]}\\u00b3\"\n",
    "\n",
    "print(math_symbol(\"The area of the rectangle is 1256.66cm2\"))\n",
    "print(math_symbol(\"The volume of the cylinder is 1254.725cm3\"))\n"
   ]
  },
  {
   "cell_type": "code",
   "execution_count": 36,
   "metadata": {},
   "outputs": [
    {
     "name": "stdout",
     "output_type": "stream",
     "text": [
      "Current character w position at 0\n",
      "Current character 3 position at 1\n",
      "Current character r position at 2\n",
      "Current character e position at 3\n",
      "Current character s position at 4\n",
      "Current character o position at 5\n",
      "Current character u position at 6\n",
      "Current character r position at 7\n",
      "Current character c position at 8\n",
      "Current character e position at 9\n"
     ]
    }
   ],
   "source": [
    "#44\n",
    "def index_of_char(string):\n",
    "    for _ in range(len(string)):\n",
    "        print(f\"Current character {string[_]} position at {_}\")\n",
    "    \n",
    "index_of_char(\"w3resource\")"
   ]
  },
  {
   "cell_type": "code",
   "execution_count": 42,
   "metadata": {},
   "outputs": [
    {
     "name": "stdout",
     "output_type": "stream",
     "text": [
      "True\n"
     ]
    }
   ],
   "source": [
    "#45\n",
    "def is_alphabet_in_string(string):\n",
    "    alphabet = set('abcdefghijklmnopqrstuvwxyz')\n",
    "    loop_lst = []\n",
    "    count = 0\n",
    "    for _ in string:\n",
    "        if _ in alphabet and _ not in loop_lst:\n",
    "            count += 1\n",
    "            loop_lst.append(_)\n",
    "\n",
    "    if count == 26:\n",
    "        return True\n",
    "    else:\n",
    "        print(count) \n",
    "        return False\n",
    "    \n",
    "print(is_alphabet_in_string('abcdefghijklmnopqrstuvwxyz'))\n"
   ]
  },
  {
   "cell_type": "code",
   "execution_count": null,
   "metadata": {},
   "outputs": [
    {
     "name": "stdout",
     "output_type": "stream",
     "text": [
      "['the', 'quick', 'brown', 'fox', 'jumps', 'over', 'the', 'lazy', 'dog']\n"
     ]
    }
   ],
   "source": [
    "#46\n",
    "def to_list_of_words(string):\n",
    "    return string.split()\n",
    "\n",
    "print(to_list_of_words('the quick brown fox jumps over the lazy dog'))"
   ]
  },
  {
   "cell_type": "code",
   "execution_count": 44,
   "metadata": {},
   "outputs": [
    {
     "name": "stdout",
     "output_type": "stream",
     "text": [
      "helLOmyfriend\n"
     ]
    }
   ],
   "source": [
    "#47\n",
    "def lowercase_in_first_n_chars(string, n):\n",
    "    return string[:n].lower() + string[n:]\n",
    "print(lowercase_in_first_n_chars(\"HELLOmyfriend\", 3))"
   ]
  },
  {
   "cell_type": "code",
   "execution_count": 47,
   "metadata": {},
   "outputs": [
    {
     "name": "stdout",
     "output_type": "stream",
     "text": [
      "Hello. May, Are you busy. I want to\n"
     ]
    }
   ],
   "source": [
    "#48 Write a Python program to swap commas and dots in a string\n",
    "def swap_comma_dot(string):\n",
    "    for _ in range(len(string)):\n",
    "        if string[_] == ',':\n",
    "            string = string[:_] + '.' + string[_+1:]\n",
    "        elif string[_] == '.':\n",
    "            string = string[:_] + ',' + string[_+1:]\n",
    "    return string\n",
    "\n",
    "print(swap_comma_dot(\"Hello, May. Are you busy, I want to\"))"
   ]
  },
  {
   "cell_type": "code",
   "execution_count": 58,
   "metadata": {},
   "outputs": [
    {
     "name": "stdout",
     "output_type": "stream",
     "text": [
      "a: 0\n",
      "e: 3\n",
      "i: 0\n",
      "o: 1\n",
      "u: 0\n"
     ]
    }
   ],
   "source": [
    "#49 Write a Python program to count and display vowels in text.\n",
    "def count_display_vowels(string):\n",
    "    vowels = ['a','e','i','o','u']\n",
    "    lst_count = [0, 0, 0, 0, 0]\n",
    "    for i in string:\n",
    "        for j in range(len(vowels)):\n",
    "            if i == vowels[j]:\n",
    "                lst_count[j] += 1\n",
    "    \n",
    "    return vowels, lst_count\n",
    "\n",
    "vowels, result = count_display_vowels('hello peter')\n",
    "for _ in range(len(vowels)):\n",
    "    print(f\"{vowels[_]}: {result[_]}\")\n"
   ]
  },
  {
   "cell_type": "code",
   "execution_count": 61,
   "metadata": {},
   "outputs": [
    {
     "name": "stdout",
     "output_type": "stream",
     "text": [
      "peter\n"
     ]
    }
   ],
   "source": [
    "#50 Write a Python program to split a string on the last occurrence of the delimiter.\n",
    "def last_occur_of_delimiter(string, delimiter):\n",
    "    for _ in range(len(string))[::-1]:\n",
    "        if string[_] == delimiter:\n",
    "            return string[_+1:]\n",
    "    \n",
    "print(last_occur_of_delimiter(\"hello-peter\",'-'))"
   ]
  }
 ],
 "metadata": {
  "kernelspec": {
   "display_name": "Python 3",
   "language": "python",
   "name": "python3"
  },
  "language_info": {
   "codemirror_mode": {
    "name": "ipython",
    "version": 3
   },
   "file_extension": ".py",
   "mimetype": "text/x-python",
   "name": "python",
   "nbconvert_exporter": "python",
   "pygments_lexer": "ipython3",
   "version": "3.13.1"
  }
 },
 "nbformat": 4,
 "nbformat_minor": 2
}
