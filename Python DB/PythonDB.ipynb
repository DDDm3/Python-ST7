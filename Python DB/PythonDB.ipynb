{
 "cells": [
  {
   "cell_type": "code",
   "execution_count": 1,
   "id": "d65e10a2",
   "metadata": {},
   "outputs": [],
   "source": [
    "import sqlite3\n",
    "\n",
    "try:\n",
    "    con = sqlite3.connect(\"pythonDB.db\")\n",
    "    cur = con.cursor() \n",
    "except Exception as e:\n",
    "    print(\"Chưa kết nối với Database. Lỗi:\", e)"
   ]
  },
  {
   "cell_type": "code",
   "execution_count": null,
   "id": "a1b7691f",
   "metadata": {},
   "outputs": [],
   "source": [
    "data_NHAN_VIEN = [\n",
    "    ('N01', 'Tran Ngoc', 'An', 'Nam', '1965-11-10', 4500000, 'C03', 'N02'),\n",
    "    ('N02', 'Luu An', 'Tu', 'Nam', '1980-12-10', 5200000, 'C03', None),\n",
    "    ('N03', 'Ly Thanh', 'Ngoc', 'Nữ', '1988-09-25', 4300000, 'C02', 'N04'),\n",
    "    ('N04', 'Le Kim', 'Oanh', 'Nữ', '1975-06-22', 5000000, 'C02', None),\n",
    "    ('N05', 'Ly Van', 'Nan', 'Nam', '1988-03-07', 4800000, 'C03', 'N02'),\n",
    "    ('N06', 'Nguyen Thi', 'Chin', 'Nữ', '1968-07-16', 3200000, 'C03', 'N05'),\n",
    "    ('N07', 'Le Van', 'Bon', 'Nam', '1970-11-18', 4500000, 'C02', 'N04'),\n",
    "    ('N08', 'Le Hung', 'Su', 'Nam', '1965-12-25', 6500000, 'C01', None),\n",
    "]\n",
    "\n",
    "cur.executemany(\"INSERT INTO NHAN_VIEN VALUES (?, ?, ?, ?, ?, ?, ?, ?)\", data_NHAN_VIEN)\n",
    "con.commit()"
   ]
  },
  {
   "cell_type": "code",
   "execution_count": 12,
   "id": "6f7dec34",
   "metadata": {},
   "outputs": [],
   "source": [
    "cur.execute(\"INSERT INTO CHI_NHANH (macn , tencn, manvptr, ngaynhamchuc) VALUES ('C01', 'Chi nhanh 1', 'N08', '2006-02-16'), ('C02', 'Chi nhanh 2', 'N04', '2005-12-10'), ('C03', 'Chi nhanh 3', 'N02', '2004-03-07')\")\n",
    "con.commit()"
   ]
  },
  {
   "cell_type": "code",
   "execution_count": 13,
   "id": "240e991c",
   "metadata": {},
   "outputs": [],
   "source": [
    "cur.execute(\"INSERT INTO VPHONG_CN (macn , matp) VALUES ('C01', '01'), ('C02', '02'), ('C03', '03'), ('C03', '04'), ('C03', '01')\")\n",
    "con.commit()"
   ]
  },
  {
   "cell_type": "code",
   "execution_count": 15,
   "id": "083f3c26",
   "metadata": {},
   "outputs": [],
   "source": [
    "cur.execute('DELETE FROM THANH_PHO')\n",
    "\n",
    "cur.execute(\"INSERT INTO THANH_PHO (matp , tentp) VALUES ('01', 'Ha Noi'), ('02', 'TPHCM'), ('03', 'Da Nang'), ('04','Can Tho')\")\n",
    "con.commit()"
   ]
  },
  {
   "cell_type": "code",
   "execution_count": 9,
   "id": "51f8e5e7",
   "metadata": {},
   "outputs": [],
   "source": [
    "data_CONG_TRINH = [\n",
    "    ('CT01', 'Cong trinh so 1', '2007-03-07', '2007-05-15', '03', 'C03'),\n",
    "    ('CT02', 'Cong trinh so 2', '2007-02-16', '2007-05-15', '04', 'C03'),\n",
    "    ('CT03', 'Cong trinh so 3', '2007-07-16', '2007-07-18', '01', 'C03'),\n",
    "    ('CT04', 'Cong trinh so 4', '2007-07-18', '2007-12-25', '02', 'C02'),\n",
    "    ('CT05', 'Cong trinh so 5', '2007-06-22', '2007-12-25', '01', 'C01'),\n",
    "    ('CT06', 'Cong trinh so 6', '2007-06-22', '2007-12-10', '02', 'C02')\n",
    "]\n",
    "\n",
    "cur.executemany(\"INSERT INTO CONG_TRINH VALUES (?, ?, ?, ?, ?, ?)\", data_CONG_TRINH)\n",
    "con.commit()"
   ]
  },
  {
   "cell_type": "code",
   "execution_count": 10,
   "id": "5344f251",
   "metadata": {},
   "outputs": [],
   "source": [
    "data_PHAN_CONG = [\n",
    "    ('N01', 'CT01', 18),\n",
    "    ('N01', 'CT02', 30),\n",
    "    ('N05', 'CT03', 20),\n",
    "    ('N06', 'CT04', 26),\n",
    "    ('N06', 'CT05', 12),\n",
    "    ('N02', 'CT01', 12),\n",
    "    ('N02', 'CT06', 20),\n",
    "    ('N02', 'CT02', 18),\n",
    "    ('N02', 'CT03', 22),\n",
    "    ('N02', 'CT04', 32),\n",
    "    ('N02', 'CT05', 16),\n",
    "    ('N03', 'CT06', 8),\n",
    "    ('N03', 'CT04', 28),\n",
    "    ('N07', 'CT04', 12),\n",
    "    ('N07', 'CT06', 32),\n",
    "    ('N04', 'CT06', 24),\n",
    "    ('N04', 'CT05', 16),\n",
    "    ('N08', 'CT05', 18)\n",
    "]\n",
    "\n",
    "cur.executemany(\"INSERT INTO PHAN_CONG VALUES (?, ?, ?)\", data_PHAN_CONG)\n",
    "con.commit()"
   ]
  },
  {
   "cell_type": "code",
   "execution_count": 11,
   "id": "ea62d27e",
   "metadata": {},
   "outputs": [
    {
     "name": "stdout",
     "output_type": "stream",
     "text": [
      "('N01', 'CT01', 18)\n",
      "('N01', 'CT02', 30)\n",
      "('N05', 'CT03', 20)\n"
     ]
    }
   ],
   "source": [
    "cur.execute(\"SELECT * FROM PHAN_CONG ASC LIMIT 3\")\n",
    "result = cur.fetchall()\n",
    "for row in result:\n",
    "    print(row) # in ra từng dòng dữ liệu"
   ]
  },
  {
   "cell_type": "markdown",
   "id": "a2e2c3f6",
   "metadata": {},
   "source": [
    "# Câu a"
   ]
  },
  {
   "cell_type": "code",
   "execution_count": null,
   "id": "3c66150d",
   "metadata": {},
   "outputs": [
    {
     "name": "stdout",
     "output_type": "stream",
     "text": [
      "('Tran Ngoc', 'An', 'Chi nhanh 3')\n",
      "('Ly Thanh', 'Ngoc', 'Chi nhanh 2')\n",
      "('Le Kim', 'Oanh', 'Chi nhanh 2')\n",
      "('Ly Van', 'Nan', 'Chi nhanh 3')\n",
      "('Le Van', 'Bon', 'Chi nhanh 2')\n"
     ]
    }
   ],
   "source": [
    "query = '''\n",
    "SELECT nv.honv, nv.tennv, cn.tencn FROM NHAN_VIEN nv \n",
    "JOIN CHI_NHANH cn ON nv.macn = cn.macn \n",
    "WHERE mucluong>=4000000 AND mucluong<=5000000\n",
    "'''\n",
    "\n",
    "cur.execute(query)\n",
    "result = cur.fetchall()\n",
    "for row in result:\n",
    "    print(row) "
   ]
  },
  {
   "cell_type": "markdown",
   "id": "8b7deb02",
   "metadata": {},
   "source": [
    "# Câu b"
   ]
  },
  {
   "cell_type": "code",
   "execution_count": null,
   "id": "f53ac513",
   "metadata": {},
   "outputs": [
    {
     "name": "stdout",
     "output_type": "stream",
     "text": [
      "('N04', 'Le Kim', 'Oanh', 'Nữ', '1975-06-22', 5000000.0, 'C02', None)\n",
      "('N06', 'Nguyen Thi', 'Chin', 'Nữ', '1968-07-16', 3200000.0, 'C03', 'N05')\n"
     ]
    }
   ],
   "source": [
    "query = '''\n",
    "SELECT * FROM NHAN_VIEN nv \n",
    "WHERE PHAI = 'Nữ' AND (strftime('2025-05-30') - nv.ngaysinh) > 40\n",
    "'''\n",
    "\n",
    "cur.execute(query)\n",
    "result = cur.fetchall()\n",
    "for row in result:\n",
    "    print(row) "
   ]
  },
  {
   "cell_type": "markdown",
   "id": "7ebd119e",
   "metadata": {},
   "source": [
    "# Câu c"
   ]
  },
  {
   "cell_type": "code",
   "execution_count": null,
   "id": "524b6e9d",
   "metadata": {},
   "outputs": [
    {
     "name": "stdout",
     "output_type": "stream",
     "text": [
      "('Chi nhanh 1', 'Cong trinh so 5')\n",
      "('Chi nhanh 2', 'Cong trinh so 4')\n",
      "('Chi nhanh 2', 'Cong trinh so 6')\n",
      "('Chi nhanh 3', 'Cong trinh so 1')\n",
      "('Chi nhanh 3', 'Cong trinh so 2')\n",
      "('Chi nhanh 3', 'Cong trinh so 3')\n"
     ]
    }
   ],
   "source": [
    "query = '''\n",
    "SELECT cn.tencn, ct.tenct FROM CHI_NHANH cn \n",
    "JOIN CONG_TRINH ct ON cn.macn = ct.macn\n",
    "ORDER BY cn.tencn\n",
    "'''\n",
    "\n",
    "cur.execute(query)\n",
    "result = cur.fetchall()\n",
    "for row in result:\n",
    "    print(row) "
   ]
  },
  {
   "cell_type": "markdown",
   "id": "cbf0b953",
   "metadata": {},
   "source": [
    "# Câu d"
   ]
  },
  {
   "cell_type": "code",
   "execution_count": null,
   "id": "bd684e98",
   "metadata": {},
   "outputs": [
    {
     "name": "stdout",
     "output_type": "stream",
     "text": [
      "('N02', 'Luu An', 'Tu', '2004-03-07')\n",
      "('N04', 'Le Kim', 'Oanh', '2005-12-10')\n",
      "('N08', 'Le Hung', 'Su', '2006-02-16')\n"
     ]
    }
   ],
   "source": [
    "query = '''\n",
    "SELECT nv.manv, nv.honv, nv.tennv, cn.ngaynhamchuc FROM CHI_NHANH cn \n",
    "JOIN NHAN_VIEN nv ON cn.macn = nv.macn\n",
    "WHERE cn.manvptr = nv.manv\n",
    "ORDER BY nv.manv\n",
    "'''\n",
    "\n",
    "cur.execute(query)\n",
    "result = cur.fetchall()\n",
    "for row in result:\n",
    "    print(row) "
   ]
  },
  {
   "cell_type": "markdown",
   "id": "3b03d11e",
   "metadata": {},
   "source": [
    "# Câu e"
   ]
  },
  {
   "cell_type": "code",
   "execution_count": 10,
   "id": "eb514f89",
   "metadata": {},
   "outputs": [
    {
     "name": "stdout",
     "output_type": "stream",
     "text": [
      "('N01', 'Tran Ngoc', 'An', 'CT02', 'Cong trinh so 2')\n",
      "('N02', 'Luu An', 'Tu', 'CT04', 'Cong trinh so 4')\n",
      "('N03', 'Ly Thanh', 'Ngoc', 'CT04', 'Cong trinh so 4')\n",
      "('N06', 'Nguyen Thi', 'Chin', 'CT04', 'Cong trinh so 4')\n",
      "('N07', 'Le Van', 'Bon', 'CT06', 'Cong trinh so 6')\n"
     ]
    }
   ],
   "source": [
    "query = '''\n",
    "SELECT nv.manv, nv.honv, nv.tennv, ct.mact, ct.tenct\n",
    "FROM NHAN_VIEN nv\n",
    "JOIN PHAN_CONG pc ON nv.manv = pc.manv\n",
    "JOIN CONG_TRINH ct ON pc.mact = ct.mact\n",
    "WHERE pc.sogiotuan > 25\n",
    "ORDER BY nv.manv;\n",
    "'''\n",
    "\n",
    "cur.execute(query)\n",
    "result = cur.fetchall()\n",
    "for row in result:\n",
    "    print(row) "
   ]
  },
  {
   "cell_type": "markdown",
   "id": "738f15e3",
   "metadata": {},
   "source": [
    "# Câu f"
   ]
  },
  {
   "cell_type": "markdown",
   "id": "04453d11",
   "metadata": {},
   "source": [
    "Danh sách mã số và tên của những công trình do các chi nhánh khác nhau thi công nhưng lại ở\n",
    "cùng thành phố. Mỗi cặp chỉ liệt kê 1 lần, ví dụ đã liệt kê (i, j) thì không liệt kê lại (j, i)."
   ]
  },
  {
   "cell_type": "code",
   "execution_count": null,
   "id": "db18276e",
   "metadata": {},
   "outputs": [],
   "source": [
    "query = '''\n",
    "\n",
    "'''\n",
    "\n",
    "cur.execute(query)\n",
    "result = cur.fetchall()\n",
    "for row in result:\n",
    "    print(row) "
   ]
  },
  {
   "cell_type": "markdown",
   "id": "403e1eca",
   "metadata": {},
   "source": [
    "# Câu g"
   ]
  },
  {
   "cell_type": "code",
   "execution_count": 34,
   "id": "48fc7d42",
   "metadata": {},
   "outputs": [
    {
     "name": "stdout",
     "output_type": "stream",
     "text": [
      "('C01', '01', 'CT05', 'Cong trinh so 5', '2007-06-22', '2007-12-25', '01', 'C01')\n",
      "('C02', '02', 'CT04', 'Cong trinh so 4', '2007-07-18', '2007-12-25', '02', 'C02')\n",
      "('C02', '02', 'CT06', 'Cong trinh so 6', '2007-06-22', '2007-12-10', '02', 'C02')\n",
      "('C03', '03', 'CT01', 'Cong trinh so 1', '2007-03-07', '2007-05-15', '03', 'C03')\n",
      "('C03', '04', 'CT02', 'Cong trinh so 2', '2007-02-16', '2007-05-15', '04', 'C03')\n",
      "('C03', '01', 'CT03', 'Cong trinh so 3', '2007-07-16', '2007-07-18', '01', 'C03')\n"
     ]
    }
   ],
   "source": [
    "query = '''\n",
    "SELECT * FROM VPHONG_CN vpcn\n",
    "JOIN CONG_TRINH ct ON vpcn.macn = ct.macn\n",
    "WHERE vpcn.matp = ct.matp\n",
    "ORDER BY ct.macn\n",
    "'''\n",
    "\n",
    "cur.execute(query)\n",
    "result = cur.fetchall()\n",
    "for row in result:\n",
    "    print(row) "
   ]
  },
  {
   "cell_type": "markdown",
   "id": "dabb04f3",
   "metadata": {},
   "source": [
    "# Câu h"
   ]
  },
  {
   "cell_type": "code",
   "execution_count": 48,
   "id": "a47a9764",
   "metadata": {},
   "outputs": [
    {
     "name": "stdout",
     "output_type": "stream",
     "text": [
      "('Tran Ngoc', 'An', 'Luu An', 'Tu')\n",
      "('Ly Thanh', 'Ngoc', 'Le Kim', 'Oanh')\n",
      "('Ly Van', 'Nan', 'Luu An', 'Tu')\n",
      "('Nguyen Thi', 'Chin', 'Ly Van', 'Nan')\n",
      "('Le Van', 'Bon', 'Le Kim', 'Oanh')\n"
     ]
    }
   ],
   "source": [
    "query = '''\n",
    "SELECT nv1.honv, nv1.tennv, nv2.honv, nv2.tennv FROM NHAN_VIEN nv1\n",
    "JOIN NHAN_VIEN nv2 on nv1.manvquanly = nv2.manv\n",
    "ORDER BY nv1.manv\n",
    "'''\n",
    "\n",
    "cur.execute(query)\n",
    "result = cur.fetchall()\n",
    "for row in result:\n",
    "    print(row) "
   ]
  },
  {
   "cell_type": "markdown",
   "id": "93a12da5",
   "metadata": {},
   "source": [
    "# Câu i"
   ]
  },
  {
   "cell_type": "code",
   "execution_count": null,
   "id": "98510fad",
   "metadata": {},
   "outputs": [
    {
     "name": "stdout",
     "output_type": "stream",
     "text": [
      "('Cong trinh so 1', 'Tran Ngoc', 'An')\n",
      "('Cong trinh so 2', 'Tran Ngoc', 'An')\n",
      "('Cong trinh so 3', 'Tran Ngoc', 'An')\n",
      "('Cong trinh so 1', 'Luu An', 'Tu')\n",
      "('Cong trinh so 2', 'Luu An', 'Tu')\n",
      "('Cong trinh so 3', 'Luu An', 'Tu')\n",
      "('Cong trinh so 4', 'Ly Thanh', 'Ngoc')\n",
      "('Cong trinh so 6', 'Ly Thanh', 'Ngoc')\n",
      "('Cong trinh so 4', 'Le Kim', 'Oanh')\n",
      "('Cong trinh so 6', 'Le Kim', 'Oanh')\n",
      "('Cong trinh so 1', 'Ly Van', 'Nan')\n",
      "('Cong trinh so 2', 'Ly Van', 'Nan')\n",
      "('Cong trinh so 3', 'Ly Van', 'Nan')\n",
      "('Cong trinh so 1', 'Nguyen Thi', 'Chin')\n",
      "('Cong trinh so 2', 'Nguyen Thi', 'Chin')\n",
      "('Cong trinh so 3', 'Nguyen Thi', 'Chin')\n",
      "('Cong trinh so 4', 'Le Van', 'Bon')\n",
      "('Cong trinh so 6', 'Le Van', 'Bon')\n",
      "('Cong trinh so 5', 'Le Hung', 'Su')\n"
     ]
    }
   ],
   "source": [
    "query = '''\n",
    "SELECT ct.tenct, nv.honv, nv.tennv FROM NHAN_VIEN nv \n",
    "JOIN CONG_TRINH ct ON nv.macn = ct.macn\n",
    "'''\n",
    "\n",
    "cur.execute(query)\n",
    "result = cur.fetchall()\n",
    "for row in result:\n",
    "    print(row) "
   ]
  },
  {
   "cell_type": "markdown",
   "id": "0b9ef696",
   "metadata": {},
   "source": [
    "# Câu j"
   ]
  },
  {
   "cell_type": "code",
   "execution_count": null,
   "id": "5da86e83",
   "metadata": {},
   "outputs": [
    {
     "name": "stdout",
     "output_type": "stream",
     "text": [
      "('Cong trinh so 1', 30)\n",
      "('Cong trinh so 2', 48)\n",
      "('Cong trinh so 3', 42)\n",
      "('Cong trinh so 4', 98)\n",
      "('Cong trinh so 5', 62)\n",
      "('Cong trinh so 6', 84)\n"
     ]
    }
   ],
   "source": [
    "query = '''\n",
    "SELECT ct.tenct, SUM(pc.sogiotuan) FROM PHAN_CONG pc \n",
    "JOIN CONG_TRINH ct ON ct.mact = pc.mact\n",
    "GROUP BY ct.mact\n",
    "'''\n",
    "\n",
    "cur.execute(query)\n",
    "result = cur.fetchall()\n",
    "for row in result:\n",
    "    print(row) "
   ]
  },
  {
   "cell_type": "markdown",
   "id": "9d86773a",
   "metadata": {},
   "source": [
    "# Câu k"
   ]
  },
  {
   "cell_type": "code",
   "execution_count": null,
   "id": "bdd30f51",
   "metadata": {},
   "outputs": [
    {
     "name": "stdout",
     "output_type": "stream",
     "text": [
      "('Chi nhanh 1', 6500000.0)\n",
      "('Chi nhanh 2', 4600000.0)\n",
      "('Chi nhanh 3', 4425000.0)\n"
     ]
    }
   ],
   "source": [
    "query = '''\n",
    "SELECT cn.tencn, AVG(nv.mucluong) FROM NHAN_VIEN nv \n",
    "JOIN CHI_NHANH cn ON nv.macn = cn.macn\n",
    "GROUP BY cn.tencn\n",
    "'''\n",
    "\n",
    "cur.execute(query)\n",
    "result = cur.fetchall()\n",
    "for row in result:\n",
    "    print(row) "
   ]
  },
  {
   "cell_type": "markdown",
   "id": "bb17846f",
   "metadata": {},
   "source": [
    "# Câu l"
   ]
  },
  {
   "cell_type": "code",
   "execution_count": 13,
   "id": "bebd3603",
   "metadata": {},
   "outputs": [
    {
     "name": "stdout",
     "output_type": "stream",
     "text": [
      "(4166666.6666666665,)\n"
     ]
    }
   ],
   "source": [
    "query = '''\n",
    "SELECT AVG(nv.mucluong) FROM NHAN_VIEN nv \n",
    "WHERE PHAI = 'Nữ'\n",
    "'''\n",
    "\n",
    "cur.execute(query)\n",
    "result = cur.fetchall()\n",
    "for row in result:\n",
    "    print(row) "
   ]
  },
  {
   "cell_type": "markdown",
   "id": "76aeffda",
   "metadata": {},
   "source": [
    "# Câu m"
   ]
  },
  {
   "cell_type": "code",
   "execution_count": 14,
   "id": "3fd56dd1",
   "metadata": {},
   "outputs": [
    {
     "name": "stdout",
     "output_type": "stream",
     "text": [
      "('Chi nhanh 1', 1)\n",
      "('Chi nhanh 2', 3)\n"
     ]
    }
   ],
   "source": [
    "query = '''\n",
    "SELECT cn.tencn, COUNT(nv.manv) \n",
    "FROM NHAN_VIEN nv \n",
    "JOIN CHI_NHANH cn ON nv.macn = cn.macn\n",
    "GROUP BY cn.tencn\n",
    "HAVING AVG(nv.mucluong) > 4500000\n",
    "'''\n",
    "\n",
    "cur.execute(query)\n",
    "result = cur.fetchall()\n",
    "for row in result:\n",
    "    print(row) "
   ]
  },
  {
   "cell_type": "markdown",
   "id": "c5904111",
   "metadata": {},
   "source": [
    "# Câu n"
   ]
  },
  {
   "cell_type": "markdown",
   "id": "6137767e",
   "metadata": {},
   "source": [
    "Danh sách mã số công trình mà trong đó tên nhân viên tham gia công trình hay tên người trưởng\n",
    "chi nhánh phụ trách công trình đó có 4 ký tự trở lên."
   ]
  },
  {
   "cell_type": "code",
   "execution_count": null,
   "id": "f5866d12",
   "metadata": {},
   "outputs": [],
   "source": []
  },
  {
   "cell_type": "markdown",
   "id": "ac44f197",
   "metadata": {},
   "source": [
    "# Câu o"
   ]
  },
  {
   "cell_type": "markdown",
   "id": "6785887d",
   "metadata": {},
   "source": [
    "Danh sách mã số và họ tên nhân viên có mức lương trên mức lương trung bình của chi nhánh có\n",
    "tên ‘Chi nhánh 2’ "
   ]
  },
  {
   "cell_type": "code",
   "execution_count": 58,
   "id": "1c0fc44f",
   "metadata": {},
   "outputs": [
    {
     "name": "stdout",
     "output_type": "stream",
     "text": [
      "('N02', 'Luu An', 'Tu')\n",
      "('N04', 'Le Kim', 'Oanh')\n",
      "('N05', 'Ly Van', 'Nan')\n",
      "('N08', 'Le Hung', 'Su')\n"
     ]
    }
   ],
   "source": [
    "query = '''\n",
    "SELECT nv1.manv, nv1.honv, nv1.tennv \n",
    "FROM NHAN_VIEN nv1\n",
    "WHERE nv1.mucluong > (\n",
    "    SELECT AVG(nv2.mucluong)\n",
    "    FROM NHAN_VIEN nv2\n",
    "    JOIN CHI_NHANH cn ON nv2.macn = cn.macn\n",
    "    WHERE cn.tencn = 'Chi nhanh 2'\n",
    ")\n",
    "'''\n",
    "\n",
    "cur.execute(query)\n",
    "result = cur.fetchall()\n",
    "for row in result:\n",
    "    print(row) "
   ]
  },
  {
   "cell_type": "markdown",
   "id": "93af19b4",
   "metadata": {},
   "source": [
    "# Câu p"
   ]
  },
  {
   "cell_type": "code",
   "execution_count": 97,
   "id": "05f4e432",
   "metadata": {},
   "outputs": [
    {
     "name": "stdout",
     "output_type": "stream",
     "text": [
      "('Chi nhanh 3', 'Luu An', 'Tu', 4)\n",
      "('Chi nhanh 2', 'Le Kim', 'Oanh', 3)\n",
      "('Chi nhanh 1', 'Le Hung', 'Su', 1)\n"
     ]
    }
   ],
   "source": [
    "query = '''\n",
    "SELECT cn.tencn, nv1.honv, nv1.tennv, COUNT(nv1.manv) as soluongnv\n",
    "FROM CHI_NHANH cn\n",
    "JOIN NHAN_VIEN nv1 ON nv1.manv = cn.manvptr\n",
    "JOIN NHAN_VIEN nv2 ON cn.macn = nv2.macn\n",
    "GROUP BY cn.macn\n",
    "ORDER BY soluongnv DESC\n",
    "'''\n",
    "\n",
    "cur.execute(query)\n",
    "result = cur.fetchall()\n",
    "for row in result:\n",
    "    print(row) "
   ]
  },
  {
   "cell_type": "markdown",
   "id": "25421486",
   "metadata": {},
   "source": [
    "# Câu q"
   ]
  },
  {
   "cell_type": "markdown",
   "id": "533119e9",
   "metadata": {},
   "source": [
    "Danh sách mã số, họ tên nhân viên trùng tên với nhau. Mỗi cặp chỉ liệt kê 1 lần, ví dụ đã liệt kê (i,\n",
    "j) thì không liệt kê lại (j, i)"
   ]
  },
  {
   "cell_type": "code",
   "execution_count": null,
   "id": "e0d063ec",
   "metadata": {},
   "outputs": [],
   "source": []
  },
  {
   "cell_type": "markdown",
   "id": "30bea276",
   "metadata": {},
   "source": [
    "# Câu r "
   ]
  },
  {
   "cell_type": "markdown",
   "id": "1353038c",
   "metadata": {},
   "source": [
    "Danh sách họ tên nhân viên chỉ làm việc cho các công trình mà chi nhánh phụ trách công trình\n",
    "không phải là chi nhánh mà mình trực thuộc"
   ]
  },
  {
   "cell_type": "code",
   "execution_count": null,
   "id": "764566f8",
   "metadata": {},
   "outputs": [],
   "source": []
  }
 ],
 "metadata": {
  "kernelspec": {
   "display_name": "Python 3",
   "language": "python",
   "name": "python3"
  },
  "language_info": {
   "codemirror_mode": {
    "name": "ipython",
    "version": 3
   },
   "file_extension": ".py",
   "mimetype": "text/x-python",
   "name": "python",
   "nbconvert_exporter": "python",
   "pygments_lexer": "ipython3",
   "version": "3.13.1"
  }
 },
 "nbformat": 4,
 "nbformat_minor": 5
}
